{
 "cells": [
  {
   "cell_type": "code",
   "execution_count": 1,
   "metadata": {},
   "outputs": [],
   "source": [
    "from pprint import pprint\n",
    "from _config import *\n",
    "from _functions import *"
   ]
  },
  {
   "cell_type": "code",
   "execution_count": 2,
   "metadata": {},
   "outputs": [],
   "source": [
    "# generate Empty fields array\n",
    "fields = get_blank_fields(12, 8)"
   ]
  },
  {
   "cell_type": "code",
   "execution_count": 3,
   "metadata": {},
   "outputs": [],
   "source": [
    "# _in = input()\n",
    "# key, start = get_key_start(str_2digits=_in)\n",
    "key, start = ('b', 0 )"
   ]
  },
  {
   "cell_type": "code",
   "execution_count": 4,
   "metadata": {},
   "outputs": [
    {
     "name": "stdout",
     "output_type": "stream",
     "text": [
      "[[1, 1, 1], [0, 1, 0]]\n",
      "(2, 3)\n",
      "B\n",
      "[1, 1, 1]\n",
      "[0, 1, 0]\n",
      "[A]:(1, 4) = [[1, 1, 1, 1]]\n",
      "[B]:(2, 3) = [[1, 1, 1], [0, 1, 0]]\n",
      "[C]:(2, 2) = [[1, 1], [1, 1]]\n",
      "[D]:(2, 3) = [[1, 1, 0], [0, 1, 1]]\n",
      "[E]:(2, 3) = [[0, 1, 1], [1, 1, 0]]\n",
      "[F]:(2, 3) = [[1, 1, 1], [0, 0, 1]]\n",
      "[G]:(2, 3) = [[1, 0, 0], [1, 1, 1]]\n"
     ]
    }
   ],
   "source": [
    "b_arrays, shape = get_block_array(key)   # 'b' = ([[1, 1, 1], [0, 1, 0]], (2, 3))\n",
    "print(b_arrays)\n",
    "print(shape)\n",
    "show_block_array(key)\n",
    "show_all_block_arrays()"
   ]
  },
  {
   "cell_type": "code",
   "execution_count": 7,
   "metadata": {},
   "outputs": [
    {
     "data": {
      "text/plain": [
       "0"
      ]
     },
     "execution_count": 7,
     "metadata": {},
     "output_type": "execute_result"
    }
   ],
   "source": [
    "# _a = [[1,2], [3,4],]\n",
    "# _b = [[1,2,3,4,5],]\n",
    "# [sum(array) for array in _a] # [3,7]\n",
    "# [sum(array) for array in _b] # [15]\n",
    "# np.sum(np.array(_b))         #15\n",
    "\n",
    "# _a = get_cut_fields(fields, row=11, posy=0)\n",
    "# np.sum(np.array(_a))\n",
    "\n",
    "first_2line = get_cut_fields(fields, row=2, posy=0)\n",
    "chk_no_empty_arrays(first_2line)"
   ]
  },
  {
   "cell_type": "code",
   "execution_count": 10,
   "metadata": {},
   "outputs": [
    {
     "data": {
      "text/plain": [
       "[[0, 0, 1, 0, 0, 0, 0, 0], [0, 0, 1, 1, 1, 0, 0, 0]]"
      ]
     },
     "execution_count": 10,
     "metadata": {},
     "output_type": "execute_result"
    }
   ],
   "source": [
    "block_arrays = pos_modified_block_arrays(key='g', start=2)\n",
    "block_arrays"
   ]
  },
  {
   "cell_type": "code",
   "execution_count": 11,
   "metadata": {},
   "outputs": [
    {
     "data": {
      "text/plain": [
       "(2, 8)"
      ]
     },
     "execution_count": 11,
     "metadata": {},
     "output_type": "execute_result"
    }
   ],
   "source": [
    "row, col = shape = np.shape(np.array(block_arrays))\n",
    "row, col"
   ]
  },
  {
   "cell_type": "code",
   "execution_count": null,
   "metadata": {},
   "outputs": [],
   "source": []
  }
 ],
 "metadata": {
  "kernelspec": {
   "display_name": "Python 3",
   "language": "python",
   "name": "python3"
  },
  "language_info": {
   "codemirror_mode": {
    "name": "ipython",
    "version": 3
   },
   "file_extension": ".py",
   "mimetype": "text/x-python",
   "name": "python",
   "nbconvert_exporter": "python",
   "pygments_lexer": "ipython3",
   "version": "3.6.5"
  }
 },
 "nbformat": 4,
 "nbformat_minor": 2
}
